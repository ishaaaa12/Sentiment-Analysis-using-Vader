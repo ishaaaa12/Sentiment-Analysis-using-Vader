{
  "nbformat": 4,
  "nbformat_minor": 0,
  "metadata": {
    "colab": {
      "provenance": [],
      "authorship_tag": "ABX9TyMak7NxOutk+3jrsYI5sV+d",
      "include_colab_link": true
    },
    "kernelspec": {
      "name": "python3",
      "display_name": "Python 3"
    },
    "language_info": {
      "name": "python"
    }
  },
  "cells": [
    {
      "cell_type": "markdown",
      "metadata": {
        "id": "view-in-github",
        "colab_type": "text"
      },
      "source": [
        "<a href=\"https://colab.research.google.com/github/ishaaaa12/Sentiment-Analysis-using-Vader/blob/main/Vader.ipynb\" target=\"_parent\"><img src=\"https://colab.research.google.com/assets/colab-badge.svg\" alt=\"Open In Colab\"/></a>"
      ]
    },
    {
      "cell_type": "code",
      "execution_count": 1,
      "metadata": {
        "colab": {
          "base_uri": "https://localhost:8080/"
        },
        "id": "nMzu31mkJzQN",
        "outputId": "35049af6-020c-4c1a-f268-2256fa6f88cd"
      },
      "outputs": [
        {
          "output_type": "stream",
          "name": "stdout",
          "text": [
            "Collecting vaderSentiment\n",
            "  Downloading vaderSentiment-3.3.2-py2.py3-none-any.whl.metadata (572 bytes)\n",
            "Requirement already satisfied: requests in /usr/local/lib/python3.11/dist-packages (from vaderSentiment) (2.32.3)\n",
            "Requirement already satisfied: charset-normalizer<4,>=2 in /usr/local/lib/python3.11/dist-packages (from requests->vaderSentiment) (3.4.2)\n",
            "Requirement already satisfied: idna<4,>=2.5 in /usr/local/lib/python3.11/dist-packages (from requests->vaderSentiment) (3.10)\n",
            "Requirement already satisfied: urllib3<3,>=1.21.1 in /usr/local/lib/python3.11/dist-packages (from requests->vaderSentiment) (2.4.0)\n",
            "Requirement already satisfied: certifi>=2017.4.17 in /usr/local/lib/python3.11/dist-packages (from requests->vaderSentiment) (2025.4.26)\n",
            "Downloading vaderSentiment-3.3.2-py2.py3-none-any.whl (125 kB)\n",
            "\u001b[?25l   \u001b[90m━━━━━━━━━━━━━━━━━━━━━━━━━━━━━━━━━━━━━━━━\u001b[0m \u001b[32m0.0/126.0 kB\u001b[0m \u001b[31m?\u001b[0m eta \u001b[36m-:--:--\u001b[0m\r\u001b[2K   \u001b[90m━━━━━━━━━━━━━━━━━━━━━━━━━━━━━━━━━━━━━━━━\u001b[0m \u001b[32m126.0/126.0 kB\u001b[0m \u001b[31m6.2 MB/s\u001b[0m eta \u001b[36m0:00:00\u001b[0m\n",
            "\u001b[?25hInstalling collected packages: vaderSentiment\n",
            "Successfully installed vaderSentiment-3.3.2\n"
          ]
        }
      ],
      "source": [
        "! pip install vaderSentiment"
      ]
    },
    {
      "cell_type": "code",
      "source": [
        "! pip install vaderSentiment"
      ],
      "metadata": {
        "colab": {
          "base_uri": "https://localhost:8080/"
        },
        "id": "wZCXtI9gJ48l",
        "outputId": "03dabd79-b602-475a-c716-0b2d06261651"
      },
      "execution_count": 2,
      "outputs": [
        {
          "output_type": "stream",
          "name": "stdout",
          "text": [
            "Requirement already satisfied: vaderSentiment in /usr/local/lib/python3.11/dist-packages (3.3.2)\n",
            "Requirement already satisfied: requests in /usr/local/lib/python3.11/dist-packages (from vaderSentiment) (2.32.3)\n",
            "Requirement already satisfied: charset-normalizer<4,>=2 in /usr/local/lib/python3.11/dist-packages (from requests->vaderSentiment) (3.4.2)\n",
            "Requirement already satisfied: idna<4,>=2.5 in /usr/local/lib/python3.11/dist-packages (from requests->vaderSentiment) (3.10)\n",
            "Requirement already satisfied: urllib3<3,>=1.21.1 in /usr/local/lib/python3.11/dist-packages (from requests->vaderSentiment) (2.4.0)\n",
            "Requirement already satisfied: certifi>=2017.4.17 in /usr/local/lib/python3.11/dist-packages (from requests->vaderSentiment) (2025.4.26)\n"
          ]
        }
      ]
    },
    {
      "cell_type": "code",
      "source": [
        "from vaderSentiment.vaderSentiment import SentimentIntensityAnalyzer\n"
      ],
      "metadata": {
        "id": "RLAZlmGfKKP0"
      },
      "execution_count": 4,
      "outputs": []
    },
    {
      "cell_type": "code",
      "source": [
        "obj = SentimentIntensityAnalyzer()"
      ],
      "metadata": {
        "id": "EsVHqiAhKMMd"
      },
      "execution_count": 5,
      "outputs": []
    },
    {
      "cell_type": "code",
      "source": [
        "sentence = \"Ram is really good \"\n",
        "sentiment_dict = obj.polarity_scores(sentence)\n",
        "print(sentiment_dict)"
      ],
      "metadata": {
        "colab": {
          "base_uri": "https://localhost:8080/"
        },
        "id": "Q4chNmvkKTVy",
        "outputId": "efebecbb-e110-4a1d-ccd8-8be4c7165665"
      },
      "execution_count": 6,
      "outputs": [
        {
          "output_type": "stream",
          "name": "stdout",
          "text": [
            "{'neg': 0.0, 'neu': 0.484, 'pos': 0.516, 'compound': 0.4927}\n"
          ]
        }
      ]
    },
    {
      "cell_type": "code",
      "source": [
        "sentence = \"Rahul is really bad\"\n",
        "sentiment_dict = obj.polarity_scores(sentence)\n",
        "print(sentiment_dict)"
      ],
      "metadata": {
        "colab": {
          "base_uri": "https://localhost:8080/"
        },
        "id": "2VRhzpRFKUxA",
        "outputId": "812f2806-99ab-4210-e2c8-467d836d1238"
      },
      "execution_count": 7,
      "outputs": [
        {
          "output_type": "stream",
          "name": "stdout",
          "text": [
            "{'neg': 0.558, 'neu': 0.442, 'pos': 0.0, 'compound': -0.5849}\n"
          ]
        }
      ]
    },
    {
      "cell_type": "markdown",
      "source": [
        "Things which manipulate the Sentiment score\n",
        "\n",
        "1) PUNCTUATIONS : It increases the intensity"
      ],
      "metadata": {
        "id": "TT2A_pv7Kbms"
      }
    },
    {
      "cell_type": "code",
      "source": [
        "print(obj.polarity_scores('Ram is good boy'))\n",
        "print(obj.polarity_scores('Ram is good boy!'))\n",
        "print(obj.polarity_scores('Ram is good boy!!'))"
      ],
      "metadata": {
        "colab": {
          "base_uri": "https://localhost:8080/"
        },
        "id": "qU0JfAMhKcAk",
        "outputId": "3ee895ee-7b99-44d7-ebe5-7936c70d3e04"
      },
      "execution_count": 8,
      "outputs": [
        {
          "output_type": "stream",
          "name": "stdout",
          "text": [
            "{'neg': 0.0, 'neu': 0.508, 'pos': 0.492, 'compound': 0.4404}\n",
            "{'neg': 0.0, 'neu': 0.484, 'pos': 0.516, 'compound': 0.4926}\n",
            "{'neg': 0.0, 'neu': 0.463, 'pos': 0.537, 'compound': 0.5399}\n"
          ]
        }
      ]
    },
    {
      "cell_type": "markdown",
      "source": [
        "2) CAPITALIZATION : It increases the intensity"
      ],
      "metadata": {
        "id": "oEmU2m5oKmLO"
      }
    },
    {
      "cell_type": "code",
      "source": [
        "print(obj.polarity_scores('Ram is good'))\n",
        "print(obj.polarity_scores('Ram is GOOD'))"
      ],
      "metadata": {
        "colab": {
          "base_uri": "https://localhost:8080/"
        },
        "id": "pCjZzpfBKiMK",
        "outputId": "3962aa0b-b480-4ed9-c4fe-b67afad59457"
      },
      "execution_count": 9,
      "outputs": [
        {
          "output_type": "stream",
          "name": "stdout",
          "text": [
            "{'neg': 0.0, 'neu': 0.408, 'pos': 0.592, 'compound': 0.4404}\n",
            "{'neg': 0.0, 'neu': 0.355, 'pos': 0.645, 'compound': 0.5622}\n"
          ]
        }
      ]
    },
    {
      "cell_type": "markdown",
      "source": [
        "3) DEGREE MODIFIERS"
      ],
      "metadata": {
        "id": "rrjTL24jKqL0"
      }
    },
    {
      "cell_type": "code",
      "source": [
        "print(obj.polarity_scores('Ram is good'))\n",
        "print(obj.polarity_scores('Ram is very good'))"
      ],
      "metadata": {
        "colab": {
          "base_uri": "https://localhost:8080/"
        },
        "id": "JmcyHvZmKoDo",
        "outputId": "ed817f5f-65fb-4ba1-e052-d49ae7f2a4fc"
      },
      "execution_count": 10,
      "outputs": [
        {
          "output_type": "stream",
          "name": "stdout",
          "text": [
            "{'neg': 0.0, 'neu': 0.408, 'pos': 0.592, 'compound': 0.4404}\n",
            "{'neg': 0.0, 'neu': 0.484, 'pos': 0.516, 'compound': 0.4927}\n"
          ]
        }
      ]
    },
    {
      "cell_type": "markdown",
      "source": [
        "\n",
        "4) CONJUNCTIONS"
      ],
      "metadata": {
        "id": "VipkPwlsKxl1"
      }
    },
    {
      "cell_type": "code",
      "source": [
        "print(obj.polarity_scores('Ram is good'))\n",
        "print(obj.polarity_scores('Ram is good,but he is also naughty sometimes'))"
      ],
      "metadata": {
        "colab": {
          "base_uri": "https://localhost:8080/"
        },
        "id": "vKNQXb8yKuKm",
        "outputId": "3fc3f212-843b-4e91-af73-f7c508b51859"
      },
      "execution_count": 11,
      "outputs": [
        {
          "output_type": "stream",
          "name": "stdout",
          "text": [
            "{'neg': 0.0, 'neu': 0.408, 'pos': 0.592, 'compound': 0.4404}\n",
            "{'neg': 0.0, 'neu': 1.0, 'pos': 0.0, 'compound': 0.0}\n"
          ]
        }
      ]
    },
    {
      "cell_type": "markdown",
      "source": [
        "DOES VADER HANDLES SLANGS AND EMOTICONS ?"
      ],
      "metadata": {
        "id": "ljY2g8JCK4aI"
      }
    },
    {
      "cell_type": "code",
      "source": [
        "print(obj.polarity_scores(\"That Hotel\"))\n",
        "print(obj.polarity_scores(\"That Hotel SUX\"))"
      ],
      "metadata": {
        "colab": {
          "base_uri": "https://localhost:8080/"
        },
        "id": "h9ufJzJ3K2n9",
        "outputId": "6c0785e2-2efa-453a-c09f-aa7ca129b999"
      },
      "execution_count": 13,
      "outputs": [
        {
          "output_type": "stream",
          "name": "stdout",
          "text": [
            "{'neg': 0.0, 'neu': 1.0, 'pos': 0.0, 'compound': 0.0}\n",
            "{'neg': 0.618, 'neu': 0.382, 'pos': 0.0, 'compound': -0.4995}\n"
          ]
        }
      ]
    },
    {
      "cell_type": "code",
      "source": [
        "print(obj.polarity_scores(\"Your :) is the most beautiful thing I have ever seen\"))\n",
        "print(obj.polarity_scores(\"Your smile is the most beautiful thing I have ever seen\"))\n"
      ],
      "metadata": {
        "colab": {
          "base_uri": "https://localhost:8080/"
        },
        "id": "iXWxzFX7K6MM",
        "outputId": "1689030b-c42c-40dd-c5fa-5a0f776324e2"
      },
      "execution_count": 14,
      "outputs": [
        {
          "output_type": "stream",
          "name": "stdout",
          "text": [
            "{'neg': 0.0, 'neu': 0.556, 'pos': 0.444, 'compound': 0.8016}\n",
            "{'neg': 0.0, 'neu': 0.574, 'pos': 0.426, 'compound': 0.7713}\n"
          ]
        }
      ]
    },
    {
      "cell_type": "code",
      "source": [],
      "metadata": {
        "id": "8mxQpodwK8ss"
      },
      "execution_count": null,
      "outputs": []
    }
  ]
}